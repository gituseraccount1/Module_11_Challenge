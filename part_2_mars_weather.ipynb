{
 "cells": [
  {
   "cell_type": "markdown",
   "metadata": {},
   "source": [
    "# Module 11 Challenge\n",
    "## Deliverable 2: Scrape and Analyze Mars Weather Data"
   ]
  },
  {
   "cell_type": "code",
   "execution_count": null,
   "metadata": {},
   "outputs": [],
   "source": [
    "# Import relevant libraries\n",
    "from splinter import Browser\n",
    "from bs4 import BeautifulSoup as soup\n",
    "import matplotlib.pyplot as plt\n",
    "import pandas as pd"
   ]
  },
  {
   "cell_type": "code",
   "execution_count": null,
   "metadata": {},
   "outputs": [],
   "source": [
    "browser = Browser('chrome')"
   ]
  },
  {
   "cell_type": "markdown",
   "metadata": {},
   "source": [
    "### Step 1: Visit the Website\n",
    "\n",
    "Use automated browsing to visit the [Mars Temperature Data Site](https://static.bc-edx.com/data/web/mars_facts/temperature.html). Inspect the page to identify which elements to scrape.\n",
    "\n",
    "   > **Hint** To identify which elements to scrape, you might want to inspect the page by using Chrome DevTools to discover whether the table contains usable classes.\n"
   ]
  },
  {
   "cell_type": "code",
   "execution_count": null,
   "metadata": {},
   "outputs": [],
   "source": [
    "# Visit the website\n",
    "url = \"https://static.bc-edx.com/data/web/mars_facts/temperature.html\"\n",
    "browser.visit(url)"
   ]
  },
  {
   "cell_type": "markdown",
   "metadata": {},
   "source": [
    "### Step 2: Scrape the Table\n",
    "\n",
    "Create a Beautiful Soup object and use it to scrape the data in the HTML table.\n",
    "\n",
    "Note that this can also be achieved by using the Pandas `read_html` function. However, use Beautiful Soup here to continue sharpening your web scraping skills."
   ]
  },
  {
   "cell_type": "code",
   "execution_count": null,
   "metadata": {},
   "outputs": [],
   "source": [
    "# Create a Beautiful Soup Object\n",
    "html = browser.html\n",
    "soup = soup(html, 'html.parser')"
   ]
  },
  {
   "cell_type": "code",
   "execution_count": null,
   "metadata": {},
   "outputs": [],
   "source": [
    "# Extract all rows of data\n",
    "all_rows = soup.find_all(class_='data-row')\n",
    "#all_rows\n",
    "\n",
    "### My struggles to create a dataframe out of the Mars info on the website ###\n",
    "# table = soup.find('tbody')\n",
    "\n",
    "# one_table = table.find('tr', class_='data-row')\n",
    "# print(one_table)\n",
    "\n",
    "# # for info in one_table:\n",
    "# #     print(info.text.strip())\n",
    "\n",
    "# print('----')\n",
    "# row_info = one_table.find_all('td')\n",
    "# print(row_info)\n",
    "# print('----')\n",
    "\n",
    "# mars_info_list = []\n",
    "\n",
    "# for row in row_info:\n",
    "#     #print(row.text)\n",
    "\n",
    "#     if row == row:\n",
    "#         id = row.text\n",
    "#         mars_dict = {\"id\": id\n",
    "#                     #  \"terrestrial_date\": \"\",\n",
    "#                     #  \"sol\": \"\",\n",
    "#                     #  \"ls\": \"\",\n",
    "#                     #  \"month\": \"\",\n",
    "#                     #  \"min_temp\": \"\",\n",
    "#                     #  \"pressure\": \"\"\n",
    "#                      }\n",
    "#         mars_info_list.append(mars_dict)  \n",
    "\n",
    "# print(mars_info_list)\n",
    "\n",
    "# # id = row_info[0]\n",
    "# # print(id.text)\n",
    "\n",
    "# # terr_date = row_info[1]\n",
    "# # print(terr_date.text)\n",
    "\n",
    "# # sol = row_info[2]\n",
    "# # print(sol.text)\n",
    "\n",
    "# # ls = row_info[3]\n",
    "# # print(ls.text)\n",
    "\n",
    "# # month = row_info[4]\n",
    "# # print(month.text)\n",
    "\n",
    "# # min_temp = row_info[5]\n",
    "# # print(min_temp.text)\n",
    "\n",
    "# # pressure = row_info[6]\n",
    "# # print(pressure.text)\n",
    "\n",
    "# # a lot of if row = 1, row =2, unti row =7."
   ]
  },
  {
   "cell_type": "markdown",
   "metadata": {},
   "source": [
    "### Step 3: Store the Data\n",
    "\n",
    "Assemble the scraped data into a Pandas DataFrame. The columns should have the same headings as the table on the website. Here’s an explanation of the column headings:\n",
    "\n",
    "* `id`: the identification number of a single transmission from the Curiosity rover\n",
    "* `terrestrial_date`: the date on Earth\n",
    "* `sol`: the number of elapsed sols (Martian days) since Curiosity landed on Mars\n",
    "* `ls`: the solar longitude\n",
    "* `month`: the Martian month\n",
    "* `min_temp`: the minimum temperature, in Celsius, of a single Martian day (sol)\n",
    "* `pressure`: The atmospheric pressure at Curiosity's location"
   ]
  },
  {
   "cell_type": "code",
   "execution_count": null,
   "metadata": {},
   "outputs": [],
   "source": [
    "# Create an empty list\n",
    "mars_temp_data_list = []\n",
    "\n",
    "# Obtain the the table headings\n",
    "table_headings = soup.find_all('th')\n",
    "# Put just the text of the table headsings into a list called table_heading_list\n",
    "table_heading_list=[heading.text for heading in table_headings]\n",
    "# Append the table_heading_list into the mars_temp_data_list\n",
    "mars_temp_data_list.append(table_heading_list)\n",
    "\n",
    "# Loop through the scraped data to create a list of rows / Loop through all the table rows\n",
    "for row in all_rows:\n",
    "    # Put all the row info into a list and assign it to row_info_list\n",
    "    row_info_list = [info.text for info in row.find_all('td')]\n",
    "    # Append the row_info_list into the mars_temp_data_list\n",
    "    mars_temp_data_list.append(row_info_list)\n",
    "\n"
   ]
  },
  {
   "cell_type": "code",
   "execution_count": null,
   "metadata": {},
   "outputs": [],
   "source": [
    "# Create a Pandas DataFrame by using the list of rows and a list of the column names\n",
    "mars_df = pd.DataFrame(mars_temp_data_list)\n",
    "\n",
    "# Replacing DataFrame header with top row stackover flow reference: https://stackoverflow.com/questions/31328861/replacing-header-with-top-row\n",
    "new_header = mars_df.iloc[0] #grab the first row for the header\n",
    "mars_df = mars_df[1:] #take the data less the header row\n",
    "mars_df.columns = new_header #set the header row as the df header"
   ]
  },
  {
   "cell_type": "code",
   "execution_count": null,
   "metadata": {},
   "outputs": [],
   "source": [
    "# Confirm DataFrame was created successfully\n",
    "mars_df\n"
   ]
  },
  {
   "cell_type": "markdown",
   "metadata": {},
   "source": [
    "### Step 4: Prepare Data for Analysis\n",
    "\n",
    "Examine the data types that are currently associated with each column. If necessary, cast (or convert) the data to the appropriate `datetime`, `int`, or `float` data types.\n",
    "\n",
    "  > **Hint** You can use the Pandas `astype` and `to_datetime` methods to accomplish this task.\n"
   ]
  },
  {
   "cell_type": "code",
   "execution_count": null,
   "metadata": {},
   "outputs": [],
   "source": [
    "# Examine data type of each column\n",
    "mars_df.dtypes #all are objects in the beginning\n",
    "\n"
   ]
  },
  {
   "cell_type": "code",
   "execution_count": null,
   "metadata": {},
   "outputs": [],
   "source": [
    "# Change data types for data analysis\n",
    "# Update each column accordingly to the data type we want\n",
    "mars_df = mars_df.astype({\"id\": int, \"sol\": int, \"ls\": int, \"month\": int, \"min_temp\": float, \"pressure\": float})\n",
    "mars_df['terrestrial_date'] = pd.to_datetime(mars_df['terrestrial_date']) # Reference this site for this line of code https://www.geeksforgeeks.org/python-pandas-to_datetime/# "
   ]
  },
  {
   "cell_type": "code",
   "execution_count": null,
   "metadata": {},
   "outputs": [],
   "source": [
    "# Confirm type changes were successful by examining data types again\n",
    "mars_df.dtypes"
   ]
  },
  {
   "cell_type": "markdown",
   "metadata": {},
   "source": [
    "### Step 5: Analyze the Data\n",
    "\n",
    "Analyze your dataset by using Pandas functions to answer the following questions:\n",
    "\n",
    "1. How many months exist on Mars? [12]\n",
    "2. How many Martian (and not Earth) days worth of data exist in the scraped dataset? [1867]\n",
    "3. What are the coldest and the warmest months on Mars (at the location of Curiosity)? [Month listed from coldest to hottest: 3,4,2,5,1,6,12,7,11,9 and 8]\n",
    "To answer this question:\n",
    "    * Find the average the minimum daily temperature for all of the months.\n",
    "    * Plot the results as a bar chart.\n",
    "4. Which months have the lowest and the highest atmospheric pressure on Mars? [Month listed from lowest to highest pressure: 6,5,7,4,12,11,1,8,3,10,2,9]\n",
    "To answer this question:\n",
    "    * Find the average the daily atmospheric pressure of all the months.\n",
    "    * Plot the results as a bar chart.\n",
    "5. About how many terrestrial (Earth) days exist in a Martian year? [Please look at the answers for all these questions above Step 6: Save the Data]\n",
    "To answer this question:\n",
    "    * Consider how many days elapse on Earth in the time that Mars circles the Sun once.\n",
    "    * Visually estimate the result by plotting the daily minimum temperature.\n"
   ]
  },
  {
   "cell_type": "code",
   "execution_count": null,
   "metadata": {},
   "outputs": [],
   "source": [
    "# 1. How many months are there on Mars?\n",
    "unique_month = mars_df['month'].unique()\n",
    "unique_month"
   ]
  },
  {
   "cell_type": "code",
   "execution_count": null,
   "metadata": {},
   "outputs": [],
   "source": [
    "# 2. How many Martian days' worth of data are there?\n",
    "martian_days = mars_df['sol'].nunique() # Jesse Wright taught me about the nunique function!\n",
    "martian_days"
   ]
  },
  {
   "cell_type": "code",
   "execution_count": null,
   "metadata": {},
   "outputs": [],
   "source": [
    "# 3. What is the average low temperature by month?\n",
    "average_low_temps_by_month = mars_df.groupby(['month']).mean()['min_temp']\n",
    "# average_low_temps_by_month = average_low_temps_by_month\n",
    "average_low_temps_by_month"
   ]
  },
  {
   "cell_type": "code",
   "execution_count": null,
   "metadata": {},
   "outputs": [],
   "source": [
    "# Plot the average temperature by month\n",
    "average_low_temps_by_month.plot.bar()\n",
    "#average_low_temps_by_month.plot()\n",
    "\n"
   ]
  },
  {
   "cell_type": "code",
   "execution_count": null,
   "metadata": {},
   "outputs": [],
   "source": [
    "# Identify the coldest and hottest months in Curiosity's location\n",
    "average_low_temps_by_month = mars_df.groupby(['month']).mean()['min_temp'].sort_values()\n",
    "average_low_temps_by_month.plot.bar(average_low_temps_by_month)"
   ]
  },
  {
   "cell_type": "code",
   "execution_count": null,
   "metadata": {},
   "outputs": [],
   "source": [
    "# 4. Average pressure by Martian month\n",
    "average_pressure_by_month = mars_df.groupby(['month']).mean()['pressure']\n",
    "average_pressure_by_month"
   ]
  },
  {
   "cell_type": "code",
   "execution_count": null,
   "metadata": {},
   "outputs": [],
   "source": [
    "# Plot the average pressure by month\n",
    "average_pressure_by_month = mars_df.groupby(['month']).mean()['pressure'].sort_values()\n",
    "average_pressure_by_month.plot.bar(average_pressure_by_month)"
   ]
  },
  {
   "cell_type": "code",
   "execution_count": null,
   "metadata": {},
   "outputs": [],
   "source": [
    "# 5. How many terrestrial (earth) days are there in a Martian year?\n",
    "mars_df.min_temp.plot()\n",
    "plt.show()"
   ]
  },
  {
   "cell_type": "markdown",
   "metadata": {},
   "source": [
    "On average, the third month has the coldest minimum temperature on Mars, and the eighth month is the warmest. But it is always very cold there in human terms!\n",
    "\n"
   ]
  },
  {
   "cell_type": "markdown",
   "metadata": {},
   "source": [
    "Atmospheric pressure is, on average, lowest in the sixth month and highest in the ninth."
   ]
  },
  {
   "cell_type": "markdown",
   "metadata": {},
   "source": [
    "The distance from peak to peak is roughly 1425-750, or 675 days. A year on Mars appears to be about 675 days from the plot. Internet search confirms that a Mars year is equivalent to 687 earth days."
   ]
  },
  {
   "cell_type": "markdown",
   "metadata": {},
   "source": [
    "### Step 6: Save the Data\n",
    "\n",
    "Export the DataFrame to a CSV file."
   ]
  },
  {
   "cell_type": "code",
   "execution_count": null,
   "metadata": {},
   "outputs": [],
   "source": [
    "# Write the data to a CSV\n",
    "mars_df.to_csv(\"mars.csv\", index=True, header=True)"
   ]
  },
  {
   "cell_type": "code",
   "execution_count": null,
   "metadata": {},
   "outputs": [],
   "source": [
    "browser.quit()"
   ]
  },
  {
   "cell_type": "markdown",
   "metadata": {},
   "source": [
    "#### Notes to self: \n",
    "- DataFrame.plot(*args, **kwargs) https://pandas.pydata.org/docs/reference/api/pandas.DataFrame.plot.html\n",
    "- plot.bar(average_low_temps_by_month) https://pandas.pydata.org/docs/reference/api/pandas.DataFrame.plot.bar.html\n",
    "\n",
    "\n",
    "average_low_temps_by_month.plot(kind='bar')"
   ]
  }
 ],
 "metadata": {
  "kernelspec": {
   "display_name": "Python 3 (ipykernel)",
   "language": "python",
   "name": "python3"
  },
  "language_info": {
   "codemirror_mode": {
    "name": "ipython",
    "version": 3
   },
   "file_extension": ".py",
   "mimetype": "text/x-python",
   "name": "python",
   "nbconvert_exporter": "python",
   "pygments_lexer": "ipython3",
   "version": "3.10.12"
  },
  "vscode": {
   "interpreter": {
    "hash": "31f2aee4e71d21fbe5cf8b01ff0e069b9275f58929596ceb00d14d90e3e16cd6"
   }
  }
 },
 "nbformat": 4,
 "nbformat_minor": 4
}
